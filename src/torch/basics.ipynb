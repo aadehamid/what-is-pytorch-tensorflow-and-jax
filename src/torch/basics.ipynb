{
 "cells": [
  {
   "cell_type": "markdown",
   "source": [
    "# Torch"
   ],
   "metadata": {
    "collapsed": false
   },
   "id": "df4517ff0a2f1fea"
  },
  {
   "cell_type": "code",
   "outputs": [],
   "source": [
    "import torch\n",
    "\n",
    "\n",
    "def create_torch_tensors(device):\n",
    "    x = torch.rand((10000, 10000), dtype=torch.float32)\n",
    "    y = torch.rand((10000, 10000), dtype=torch.float32)\n",
    "    x = x.to(device)\n",
    "    y = y.to(device)\n",
    "\n",
    "    return x, y\n",
    "device = torch.device(\"cpu\")\n",
    "x, y = create_torch_tensors(device)\n"
   ],
   "metadata": {
    "collapsed": false,
    "ExecuteTime": {
     "end_time": "2024-05-24T23:32:18.337095Z",
     "start_time": "2024-05-24T23:32:15.630854Z"
    }
   },
   "id": "e633115ac4a696f7",
   "execution_count": 1
  },
  {
   "cell_type": "code",
   "outputs": [
    {
     "name": "stdout",
     "output_type": "stream",
     "text": [
      "33.9 ms ± 7.11 ms per loop (mean ± std. dev. of 7 runs, 10 loops each)\n"
     ]
    }
   ],
   "source": [
    "%%timeit\n",
    "x * y"
   ],
   "metadata": {
    "collapsed": false,
    "ExecuteTime": {
     "end_time": "2024-05-24T23:32:30.175090Z",
     "start_time": "2024-05-24T23:32:27.456696Z"
    }
   },
   "id": "aea936f06da429c",
   "execution_count": 2
  },
  {
   "cell_type": "code",
   "outputs": [],
   "source": [
    "device = torch.device(\"mps\")\n",
    "x, y = create_torch_tensors(device)"
   ],
   "metadata": {
    "collapsed": false,
    "ExecuteTime": {
     "end_time": "2024-05-24T23:32:41.936908Z",
     "start_time": "2024-05-24T23:32:41.342250Z"
    }
   },
   "id": "951587101790cad5",
   "execution_count": 3
  },
  {
   "cell_type": "code",
   "outputs": [
    {
     "name": "stdout",
     "output_type": "stream",
     "text": [
      "1.66 ms ± 3.87 µs per loop (mean ± std. dev. of 7 runs, 1,000 loops each)\n"
     ]
    }
   ],
   "source": [
    "%%timeit\n",
    "x * y"
   ],
   "metadata": {
    "collapsed": false,
    "ExecuteTime": {
     "end_time": "2024-05-24T23:33:03.506463Z",
     "start_time": "2024-05-24T23:32:50.080411Z"
    }
   },
   "id": "8788394ab9f20afa",
   "execution_count": 4
  },
  {
   "cell_type": "markdown",
   "source": [
    "# Tensorflow"
   ],
   "metadata": {
    "collapsed": false
   },
   "id": "ff5bb0391c64df7b"
  },
  {
   "cell_type": "code",
   "outputs": [],
   "source": [
    "import tensorflow as tf\n",
    "def create_tf_tensors():\n",
    "    x = tf.random.uniform((10000, 10000), dtype=tf.float32)\n",
    "    y = tf.random.uniform((10000, 10000), dtype=tf.float32)\n",
    "    # x = x.device(device)\n",
    "    # y = y.device(device)\n",
    "\n",
    "    return x, y\n",
    "x, y = create_tf_tensors()"
   ],
   "metadata": {
    "collapsed": false,
    "ExecuteTime": {
     "end_time": "2024-05-24T23:34:47.180689Z",
     "start_time": "2024-05-24T23:34:44.728998Z"
    }
   },
   "id": "c49b1a7e7d64c394",
   "execution_count": 6
  },
  {
   "cell_type": "code",
   "outputs": [
    {
     "name": "stdout",
     "output_type": "stream",
     "text": [
      "27.8 ms ± 360 µs per loop (mean ± std. dev. of 7 runs, 10 loops each)\n"
     ]
    }
   ],
   "source": [
    "%%timeit\n",
    "with tf.device(\"/cpu:0\"):\n",
    "    x * y"
   ],
   "metadata": {
    "collapsed": false,
    "ExecuteTime": {
     "end_time": "2024-05-24T23:35:11.681635Z",
     "start_time": "2024-05-24T23:35:09.410211Z"
    }
   },
   "id": "9195e4d835d88fc7",
   "execution_count": 7
  },
  {
   "cell_type": "code",
   "outputs": [
    {
     "name": "stdout",
     "output_type": "stream",
     "text": [
      "1.64 ms ± 3.38 µs per loop (mean ± std. dev. of 7 runs, 1,000 loops each)\n"
     ]
    }
   ],
   "source": [
    "%%timeit\n",
    "with tf.device(\"/gpu:0\"):\n",
    "    x * y"
   ],
   "metadata": {
    "collapsed": false,
    "ExecuteTime": {
     "end_time": "2024-05-24T23:35:42.713849Z",
     "start_time": "2024-05-24T23:35:29.457896Z"
    }
   },
   "id": "e59065100135b034",
   "execution_count": 8
  },
  {
   "cell_type": "markdown",
   "source": [
    "# JAX"
   ],
   "metadata": {
    "collapsed": false
   },
   "id": "c280ab3110ce2c84"
  },
  {
   "cell_type": "code",
   "outputs": [],
   "source": [
    "import os\n",
    "# os.environ[\"JAX_PLATFORMS\"] = \"gpu\""
   ],
   "metadata": {
    "collapsed": false,
    "ExecuteTime": {
     "end_time": "2024-05-24T23:42:27.001788Z",
     "start_time": "2024-05-24T23:42:26.998870Z"
    }
   },
   "id": "579d6dbe9d7a5b0b",
   "execution_count": 14
  },
  {
   "cell_type": "code",
   "outputs": [
    {
     "name": "stderr",
     "output_type": "stream",
     "text": [
      "Platform 'METAL' is experimental and not all JAX functionality may be correctly supported!\n",
      "WARNING: All log messages before absl::InitializeLog() is called are written to STDERR\n",
      "W0000 00:00:1716594468.683459  562218 mps_client.cc:510] WARNING: JAX Apple GPU support is experimental and not all JAX functionality is correctly supported!\n",
      "I0000 00:00:1716594468.706163  562218 service.cc:145] XLA service 0x600003534300 initialized for platform METAL (this does not guarantee that XLA will be used). Devices:\n",
      "I0000 00:00:1716594468.706185  562218 service.cc:153]   StreamExecutor device (0): Metal, <undefined>\n",
      "I0000 00:00:1716594468.707329  562218 mps_client.cc:406] Using Simple allocator.\n",
      "I0000 00:00:1716594468.707339  562218 mps_client.cc:384] XLA backend will use up to 103078821888 bytes on device 0 for SimpleAllocator.\n"
     ]
    },
    {
     "name": "stdout",
     "output_type": "stream",
     "text": [
      "Metal device set to: Apple M2 Ultra\n"
     ]
    }
   ],
   "source": [
    "import jax\n",
    "import jax.numpy as jnp\n",
    "def create_jax_tensors():\n",
    "    x = jax.random.uniform(jax.random.PRNGKey(0), (10000, 10000), dtype = jnp.float32)\n",
    "    y = jax.random.uniform(jax.random.PRNGKey(1), (10000, 10000), dtype = jnp.float32)\n",
    "\n",
    "    return x, y\n",
    "x, y = create_jax_tensors()"
   ],
   "metadata": {
    "collapsed": false,
    "ExecuteTime": {
     "end_time": "2024-05-24T23:47:55.132337Z",
     "start_time": "2024-05-24T23:47:45.280566Z"
    }
   },
   "id": "ed0feaa3c9ec6dda",
   "execution_count": 1
  },
  {
   "cell_type": "code",
   "outputs": [
    {
     "name": "stdout",
     "output_type": "stream",
     "text": [
      "1.64 ms ± 928 ns per loop (mean ± std. dev. of 7 runs, 1,000 loops each)\n"
     ]
    }
   ],
   "source": [
    "%%timeit\n",
    "x * y"
   ],
   "metadata": {
    "collapsed": false,
    "ExecuteTime": {
     "end_time": "2024-05-24T23:48:09.657439Z",
     "start_time": "2024-05-24T23:47:56.372588Z"
    }
   },
   "id": "a7a7b83907045050",
   "execution_count": 2
  },
  {
   "cell_type": "code",
   "outputs": [
    {
     "data": {
      "text/plain": "100000000"
     },
     "execution_count": 3,
     "metadata": {},
     "output_type": "execute_result"
    }
   ],
   "source": [
    "10000 * 10000"
   ],
   "metadata": {
    "collapsed": false,
    "ExecuteTime": {
     "end_time": "2024-05-24T23:49:36.219634Z",
     "start_time": "2024-05-24T23:49:36.215183Z"
    }
   },
   "id": "e417a901a759ecaa",
   "execution_count": 3
  },
  {
   "cell_type": "code",
   "outputs": [],
   "source": [],
   "metadata": {
    "collapsed": false
   },
   "id": "2df59121ca461fc7"
  }
 ],
 "metadata": {
  "kernelspec": {
   "display_name": "Python 3",
   "language": "python",
   "name": "python3"
  },
  "language_info": {
   "codemirror_mode": {
    "name": "ipython",
    "version": 2
   },
   "file_extension": ".py",
   "mimetype": "text/x-python",
   "name": "python",
   "nbconvert_exporter": "python",
   "pygments_lexer": "ipython2",
   "version": "2.7.6"
  }
 },
 "nbformat": 4,
 "nbformat_minor": 5
}
